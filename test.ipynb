{
 "cells": [
  {
   "cell_type": "code",
   "execution_count": null,
   "id": "36180562",
   "metadata": {},
   "outputs": [],
   "source": [
    "import os\n",
    "os.environ(\"OpenAI_API_KEY\") = 'put the key here'"
   ]
  },
  {
   "cell_type": "code",
   "execution_count": 18,
   "id": "62ea4dc7",
   "metadata": {},
   "outputs": [],
   "source": [
    "import tkinter as tk\n",
    "from PIL import Image, ImageTk\n",
    "from openai import OpenAI\n",
    "import os\n",
    "import requests\n",
    "\n",
    "api_key = os.getenv('OpenAI_API_Key')\n",
    "\n",
    "# Set your OpenAI API key here\n",
    "client = OpenAI(api_key = api_key)\n",
    "\n",
    "def create_image():\n",
    "    create_image_button.config(state=tk.DISABLED)  # Disable the button\n",
    "    description = text_box.get('1.0', 'end-1c')\n",
    "\n",
    "    # Call the ChatGPT model\n",
    "    response = client.images.generate(\n",
    "      model=\"dall-e-3\",\n",
    "      prompt=description,\n",
    "      size=\"1024x1024\",\n",
    "      quality=\"standard\",\n",
    "      n=1,)\n",
    "\n",
    "    image_response = requests.get(response.data[0].url)\n",
    "    if image_response.status_code == 200:\n",
    "       with open(\"image.png\", 'wb') as f:\n",
    "          f.write(image_response.content)\n",
    "          f.close()\n",
    "\n",
    "    image_path = \"image.png\"  # Path to the new image file\n",
    "    image = Image.open(image_path)\n",
    "    image.thumbnail((512, 512))  # Resize the image \n",
    "    photo = ImageTk.PhotoImage(image)\n",
    "\n",
    "    # Display the image in a label widget\n",
    "    image_label.configure(image=photo)\n",
    "    image_label.image = photo  \n",
    "    create_image_button.config(state=tk.NORMAL)  # Enable the button\n",
    "\n",
    "import threading\n",
    "\n",
    "def call_api_in_thread():\n",
    "    # Function to call the API in a separate thread\n",
    "    thread = threading.Thread(target=create_image)\n",
    "    thread.start()\n",
    "\n",
    "root = tk.Tk()\n",
    "root.title(\"Image Generator\")\n",
    "\n",
    "# Description label and text box\n",
    "label_description = tk.Label(root, text=\"Description\")\n",
    "label_description.pack()\n",
    "\n",
    "text_box = tk.Text(root, height=4)\n",
    "text_box.pack()\n",
    "\n",
    "# Create Image button\n",
    "create_image_button = tk.Button(root, text=\"Create Image\", command=call_api_in_thread)\n",
    "create_image_button.pack()\n",
    "\n",
    "# Image label to display the loaded image\n",
    "image_label = tk.Label(root)\n",
    "image_label.pack()\n",
    "\n",
    "root.mainloop()\n"
   ]
  },
  {
   "cell_type": "code",
   "execution_count": 17,
   "id": "aa8b5751",
   "metadata": {},
   "outputs": [
    {
     "name": "stdout",
     "output_type": "stream",
     "text": [
      "Hello\n"
     ]
    }
   ],
   "source": [
    "print(\"Hello\")"
   ]
  },
  {
   "cell_type": "code",
   "execution_count": null,
   "id": "94147b0b",
   "metadata": {},
   "outputs": [],
   "source": [
    "from openai import OpenAI\n",
    "import os\n",
    "\n",
    "key = os.getenv('OpenAI_API_Key')\n",
    "\n",
    "# Set your OpenAI API key here\n",
    "client = OpenAI(api_key = key)\n",
    "\n",
    "# Set the prompt for ChatGPT\n",
    "prompt_text = input(\"Describe the text you want ChatGPT to generate: \")\n",
    "\n",
    "# Call the ChatGPT model\n",
    "response = client.chat.completions.create(\n",
    "  model=\"gpt-4\",\n",
    "  messages=[\n",
    "    {\"role\": \"user\", \"content\": prompt_text}\n",
    "  ]d\n",
    ")\n",
    "\n",
    "print(response.choices[0].message.content)\n",
    "\n"
   ]
  },
  {
   "cell_type": "code",
   "execution_count": 1,
   "id": "1f97bb99",
   "metadata": {},
   "outputs": [
    {
     "name": "stdout",
     "output_type": "stream",
     "text": [
      "type your nameKris\n",
      "Kris\n"
     ]
    }
   ],
   "source": [
    "x = input(\"type your name\")\n",
    "print(x)"
   ]
  },
  {
   "cell_type": "code",
   "execution_count": 5,
   "id": "bf5f23d5",
   "metadata": {},
   "outputs": [
    {
     "name": "stdout",
     "output_type": "stream",
     "text": [
      "Describe the text you want ChatGPT to generate: I want to a see a flying labradoodle\n",
      "I'm an AI and unable to provide real photos or videos. However, I can describe it for you:\n",
      "\n",
      "You'd see a Labradoodle, a hybrid breed that combines the intelligence of a Poodle with the affability of a Labrador Retriever- fur color varying anywhere between chocolate, cream or black. Now, imagine it zooming through the sky, mid-jump, with perfectly timed click of a camera. Its fluffy coat bouncing as its legs are extended out, either catching a frisbee or leaping over an obstacle- ears floppy, tongue out, a picture of pure, unadulterated joy. It would look as though it has wings with the sky in the background. The Labradoodle isn't really 'flying', but jumping high with immense energy making it look like it's soaring.\n"
     ]
    }
   ],
   "source": [
    "from openai import OpenAI\n",
    "import os\n",
    "\n",
    "key = os.getenv('OpenAI_API_Key')\n",
    "\n",
    "# Set your OpenAI API key here\n",
    "client = OpenAI(api_key = key)\n",
    "\n",
    "# Set the prompt for ChatGPT\n",
    "prompt_text = input(\"Describe the text you want ChatGPT to generate: \")\n",
    "\n",
    "# Call the ChatGPT model\n",
    "response = client.chat.completions.create(\n",
    "  model=\"gpt-4\",\n",
    "  messages=[\n",
    "    {\"role\": \"user\", \"content\": prompt_text}\n",
    "  ]\n",
    ")\n",
    "\n",
    "print(response.choices[0].message.content)\n",
    "\n"
   ]
  },
  {
   "cell_type": "code",
   "execution_count": null,
   "id": "e60b3965",
   "metadata": {},
   "outputs": [],
   "source": []
  }
 ],
 "metadata": {
  "kernelspec": {
   "display_name": "Python 3 (ipykernel)",
   "language": "python",
   "name": "python3"
  },
  "language_info": {
   "codemirror_mode": {
    "name": "ipython",
    "version": 3
   },
   "file_extension": ".py",
   "mimetype": "text/x-python",
   "name": "python",
   "nbconvert_exporter": "python",
   "pygments_lexer": "ipython3",
   "version": "3.11.5"
  }
 },
 "nbformat": 4,
 "nbformat_minor": 5
}
